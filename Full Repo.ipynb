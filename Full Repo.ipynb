{
  "nbformat": 4,
  "nbformat_minor": 0,
  "metadata": {
    "colab": {
      "name": "Blackjack.ipynb",
      "provenance": [],
      "collapsed_sections": [
        "2hN7L8Uvp-t3",
        "UH0fn0_cqAmt",
        "yTikb2trqDxE",
        "eMNNVm3EqGtZ",
        "AYiJZ4GFqZP6",
        "4WXOVWe3rEbb"
      ],
      "toc_visible": true,
      "authorship_tag": "ABX9TyNfGiXN3QOxA3Oq0MJw1kwM",
      "include_colab_link": true
    },
    "kernelspec": {
      "name": "python3",
      "display_name": "Python 3"
    }
  },
  "cells": [
    {
      "cell_type": "markdown",
      "metadata": {
        "id": "view-in-github",
        "colab_type": "text"
      },
      "source": [
        "<a href=\"https://colab.research.google.com/github/virnarula/card-counting-ai/blob/master/Full%20Repo.ipynb\" target=\"_parent\"><img src=\"https://colab.research.google.com/assets/colab-badge.svg\" alt=\"Open In Colab\"/></a>"
      ]
    },
    {
      "cell_type": "markdown",
      "metadata": {
        "id": "ftKZzx8LpqZI",
        "colab_type": "text"
      },
      "source": [
        "# Game Model\n"
      ]
    },
    {
      "cell_type": "code",
      "metadata": {
        "id": "yZLx5vCDpvuj",
        "colab_type": "code",
        "colab": {}
      },
      "source": [
        "import enum\n",
        "import random"
      ],
      "execution_count": 1,
      "outputs": []
    },
    {
      "cell_type": "markdown",
      "metadata": {
        "id": "2hN7L8Uvp-t3",
        "colab_type": "text"
      },
      "source": [
        "## Suit"
      ]
    },
    {
      "cell_type": "code",
      "metadata": {
        "id": "JTGxdCkGpzWU",
        "colab_type": "code",
        "colab": {}
      },
      "source": [
        "class Suit(enum.Enum):\n",
        "    CLUBS = 1\n",
        "    SPADES = 2\n",
        "    DIAMONDS = 3\n",
        "    HEARTS = 4"
      ],
      "execution_count": 2,
      "outputs": []
    },
    {
      "cell_type": "markdown",
      "metadata": {
        "id": "UH0fn0_cqAmt",
        "colab_type": "text"
      },
      "source": [
        "## Value"
      ]
    },
    {
      "cell_type": "code",
      "metadata": {
        "id": "xSjHFZizp10f",
        "colab_type": "code",
        "colab": {}
      },
      "source": [
        "class Value(enum.IntEnum):\n",
        "    ACE = 1\n",
        "    TWO = 2\n",
        "    THREE = 3\n",
        "    FOUR = 4\n",
        "    FIVE = 5\n",
        "    SIX = 6\n",
        "    SEVEN = 7\n",
        "    EIGHT = 8\n",
        "    NINE = 9\n",
        "    TEN = 10\n",
        "    JACK = 11\n",
        "    QUEEN = 12\n",
        "    KING = 13"
      ],
      "execution_count": 3,
      "outputs": []
    },
    {
      "cell_type": "markdown",
      "metadata": {
        "id": "yTikb2trqDxE",
        "colab_type": "text"
      },
      "source": [
        "## Card"
      ]
    },
    {
      "cell_type": "code",
      "metadata": {
        "id": "Y4vzm46Kp3SH",
        "colab_type": "code",
        "colab": {}
      },
      "source": [
        "class Card:\n",
        "    def __init__(self, suit, value):\n",
        "        self.suit = suit\n",
        "        self.value = value\n",
        "\n",
        "    def getSuit(self):\n",
        "        return self.suit\n",
        "\n",
        "    def getValue(self):\n",
        "        return self.value\n",
        "\n",
        "    def getName(self):\n",
        "        return str(self.value) + \" of \" + str(self.suit)\n",
        "\n",
        "    def __eq__(self, other):\n",
        "        if self.suit == other.suit and self.value == other.value:\n",
        "            return True\n",
        "        return False\n",
        "\n",
        "    def __str__(self):\n",
        "        return str(int(self.value)) + \" of \" + str(self.suit)\n"
      ],
      "execution_count": 4,
      "outputs": []
    },
    {
      "cell_type": "markdown",
      "metadata": {
        "id": "eMNNVm3EqGtZ",
        "colab_type": "text"
      },
      "source": [
        "## Deck"
      ]
    },
    {
      "cell_type": "code",
      "metadata": {
        "id": "eVkdGNbap6YH",
        "colab_type": "code",
        "colab": {}
      },
      "source": [
        "class Deck:\n",
        "    def __init__(self, decks):\n",
        "        self.deck = []\n",
        "        self.used_deck = []\n",
        "        self.decks = decks\n",
        "        for i in range(0, decks):\n",
        "            for suit in Suit:\n",
        "                for value in Value:\n",
        "                    self.deck.append(Card(suit, value))\n",
        "\n",
        "    def draw(self):\n",
        "        to_return = self.deck.pop()\n",
        "        self.used_deck.append(to_return)\n",
        "        if len(self.deck) < 8:\n",
        "            self.__init__(self.decks)\n",
        "        return to_return\n",
        "\n",
        "    def size(self):\n",
        "        return len(self.deck)\n",
        "\n",
        "    def swap(self, i, j):\n",
        "        if i > self.size() - 1 or i < 0 or j > self.size() - 1 or j < 0:\n",
        "            raise Exception(\"value was out of range\")\n",
        "\n",
        "        temp = self.deck[i]\n",
        "        self.deck[i] = self.deck[j]\n",
        "        self.deck[j] = temp\n",
        "\n",
        "    def shuffle(self):\n",
        "        j = 0\n",
        "        deck_length = len(self.deck)\n",
        "        for i in range(0, deck_length):\n",
        "            j = random.randint(i, deck_length - 1)\n",
        "            self.swap(i, j)\n",
        "\n",
        "    def printDeck(self):\n",
        "        for card in self.deck:\n",
        "            print(card.getName())\n"
      ],
      "execution_count": 5,
      "outputs": []
    },
    {
      "cell_type": "markdown",
      "metadata": {
        "id": "hmZckSSTqIFS",
        "colab_type": "text"
      },
      "source": [
        "## Game"
      ]
    },
    {
      "cell_type": "code",
      "metadata": {
        "id": "LQf1JvYYqKQs",
        "colab_type": "code",
        "colab": {}
      },
      "source": [
        "class Game:\n",
        "    def __init__(self, decks, money):\n",
        "        self.decks = decks\n",
        "        self.deck = Deck(decks)\n",
        "        self.deck.shuffle()\n",
        "        self.money = money\n",
        "        self.starting_money = money\n",
        "        self.bet = 0\n",
        "        self.player_cards = []\n",
        "        self.dealer_cards = []\n",
        "        self.rounds_played = 0\n",
        "        self.wins = 0\n",
        "        self.ties = 0\n",
        "        self.losses = 0\n",
        "    \n",
        "    def make_bet(self, bet):\n",
        "        if bet <= 0 or bet > self.money:\n",
        "            raise Exception(\"Bet is not in acceptable range. Bet: \" + str(bet))\n",
        "        self.bet = bet\n",
        "    \n",
        "    def deal_cards(self):\n",
        "        assert not self.player_cards\n",
        "        assert not self.dealer_cards\n",
        "        assert self.bet > 0\n",
        "        self.dealer_cards.append(self.deck.draw())\n",
        "        self.dealer_cards.append(self.deck.draw())\n",
        "        self.player_cards.append(self.deck.draw())\n",
        "        self.player_cards.append(self.deck.draw())\n",
        "\n",
        "    def hit(self):\n",
        "        value = Game.evaluateHand(self.player_cards)\n",
        "        if value == -1 or value >= 21:\n",
        "            raise Exception(\"Cannot hit. Current hand value: \" + str(value))\n",
        "        self.player_cards.append(self.deck.draw())\n",
        "    \n",
        "    def dealer_hit(self):\n",
        "        value = Game.evaluateHand(self.dealer_cards)\n",
        "        while value < 16 and value != -1:\n",
        "            self.dealer_cards.append(self.deck.draw())\n",
        "            value = Game.evaluateHand(self.dealer_cards)\n",
        "\n",
        "    def end_round(self):\n",
        "       players_hand = Game.evaluateHand(self.player_cards)\n",
        "       dealers_hand = Game.evaluateHand(self.dealer_cards)\n",
        "\n",
        "       if players_hand == dealers_hand:\n",
        "           self.clear_round()\n",
        "           self.ties += 1\n",
        "       elif players_hand > dealers_hand:\n",
        "            self.money += self.bet\n",
        "            self.wins += 1\n",
        "            self.clear_round()\n",
        "       else:\n",
        "            self.money -= self.bet\n",
        "            self.losses += 1\n",
        "            self.clear_round()\n",
        "\n",
        "    def clear_round(self):\n",
        "        self.dealer_cards.clear()\n",
        "        self.player_cards.clear()\n",
        "        self.bet = 0\n",
        "        self.rounds_played += 1\n",
        "\n",
        "    def isBlackjack(hand):\n",
        "        if len(hand) != 2:\n",
        "            return False\n",
        "        \n",
        "        if int(hand[0].value) > 10 and int(hand[1].value) == 1:\n",
        "            return True\n",
        "        \n",
        "        hand.reverse()\n",
        "\n",
        "        if int(hand[0].value) > 10 and int(hand[1].value) == 1:\n",
        "            return True\n",
        "\n",
        "        return False\n",
        "\n",
        "    def evaluateHand(hand):\n",
        "        if Game.isBlackjack(hand):\n",
        "            return 22\n",
        "\n",
        "        sum = 0\n",
        "        aces = 0\n",
        "\n",
        "        for card in hand:\n",
        "            if card.getValue().value > 10:\n",
        "                sum += 10\n",
        "            elif card.getValue() == Value.ACE:\n",
        "                sum += 1\n",
        "                aces += 1\n",
        "            else:\n",
        "                sum += card.getValue().value\n",
        "\n",
        "        while aces > 0 and sum <= 11:\n",
        "            sum += 10\n",
        "            aces -= 1\n",
        "\n",
        "        if sum > 21:\n",
        "            return -1\n",
        "\n",
        "        return sum"
      ],
      "execution_count": 6,
      "outputs": []
    },
    {
      "cell_type": "markdown",
      "metadata": {
        "id": "AYiJZ4GFqZP6",
        "colab_type": "text"
      },
      "source": [
        "# User Interface"
      ]
    },
    {
      "cell_type": "code",
      "metadata": {
        "id": "leV2Zsa1qhh8",
        "colab_type": "code",
        "colab": {}
      },
      "source": [
        "class user_interface:\n",
        "    def getBet(game):\n",
        "        print(\"You have \" + str(game.money) + \" dollars\")\n",
        "        bet = int(input(\"How much would you like to bet? \"))\n",
        "        return bet\n",
        "\n",
        "    def print_deal(game):\n",
        "        print(\"The dealer shows a \" + str(game.dealer_cards[0]))\n",
        "        print(\"You have a \" + str(game.player_cards[0]))\n",
        "        print(\"You have a \" + str(game.player_cards[1]))\n",
        "\n",
        "    def get_move(game):\n",
        "        move = int(input(\"Enter 0 to stay, 1 to hit: \"))\n",
        "        if move == 1:\n",
        "            game.hit()\n",
        "            print_hit(game)\n",
        "        elif move == 0:\n",
        "            game.dealer_hit()\n",
        "            print_dealer_hit(game)\n",
        "        else:\n",
        "            get_move(game)\n",
        "\n",
        "    def print_hit(game):\n",
        "        card = game.player_cards[len(game.player_cards) - 1]\n",
        "        print(\"You got a \" + str(card))\n",
        "        print()\n",
        "        get_move(game)\n",
        "\n",
        "    def print_dealer_hit(game):\n",
        "        print()\n",
        "        print(\"The dealer shows: \")\n",
        "        for card in game.dealer_cards:\n",
        "            print(str(card.value) + \" of \" + str(card.suit))\n",
        "        print(\"Dealers hand is worth \" +  str(model.Game.evaluateHand(game.dealer_cards)))\n",
        "        print()\n",
        "        print(\"You have: \")\n",
        "        for card in game.player_cards:\n",
        "            print(str(card.value) + \" of \" + str(card.suit))\n",
        "        print(\"Your hand is worth \" + str(model.Game.evaluateHand(game.player_cards)))\n",
        "        game.end_round()\n",
        "        print()\n",
        "        \n",
        "    def play_game():\n",
        "        game = model.Game(1, 500)\n",
        "        while game.money > 0:\n",
        "            game.make_bet(getBet(game))\n",
        "            game.deal_cards()\n",
        "            print_deal(game)\n",
        "            get_move(game)\n",
        "        print()\n",
        "        print(\"You ran out of money :(\")\n"
      ],
      "execution_count": 7,
      "outputs": []
    },
    {
      "cell_type": "markdown",
      "metadata": {
        "id": "4WXOVWe3rEbb",
        "colab_type": "text"
      },
      "source": [
        "# Create Keras Model\n"
      ]
    },
    {
      "cell_type": "code",
      "metadata": {
        "id": "kRatSfcSrNoq",
        "colab_type": "code",
        "colab": {}
      },
      "source": [
        "import tensorflow as tf\n",
        "from tensorflow import keras\n",
        "import numpy as np\n",
        "\n",
        "def create_model():\n",
        "    model = tf.keras.Sequential()\n",
        "    model.add(tf.keras.layers.Input(shape=(55,)))\n",
        "    model.add(tf.keras.layers.Dense(100, activation=\"relu\"))\n",
        "    model.add(tf.keras.layers.Dense(25, activation=\"relu\"))\n",
        "    model.add(tf.keras.layers.Dense(1, activation=\"sigmoid\"))\n",
        "    return model\n",
        "\n",
        "def compile_model(model):\n",
        "    model.compile(loss=\"binary_crossentropy\", optimizer=\"sgd\", metrics=[\"accuracy\"])\n",
        "    return model\n",
        "\n",
        "def create_betting_model():\n",
        "    model = tf.keras.Sequential()\n",
        "    model.add(tf.keras.layers.Input(shape=(52,)))\n",
        "    model.add(tf.keras.layers.Dense(100, activation=\"relu\"))\n",
        "    model.add(tf.keras.layers.Dense(25, activation=\"relu\"))\n",
        "    model.add(tf.keras.layers.Dense(1, activation=\"sigmoid\"))\n",
        "    return model\n",
        "\n",
        "def compile_betting_model(model):\n",
        "    model.compile(loss=\"binary_crossentropy\", optimizer=\"sgd\", metrics=[\"accuracy\"])\n",
        "    return model\n"
      ],
      "execution_count": 8,
      "outputs": []
    },
    {
      "cell_type": "markdown",
      "metadata": {
        "id": "rkD1GKN-q33V",
        "colab_type": "text"
      },
      "source": [
        "# Preprocessor"
      ]
    },
    {
      "cell_type": "code",
      "metadata": {
        "id": "fOTSxP9nq7Xb",
        "colab_type": "code",
        "colab": {}
      },
      "source": [
        "class Preprocessor:\n",
        "    def used_card(game):\n",
        "        cards = game.deck.used_deck\n",
        "        to_return = []\n",
        "        for i in range(52):\n",
        "            to_return.append(0)\n",
        "\n",
        "        for card in cards:\n",
        "            index = int(card.value) - 1\n",
        "            if card.suit == Suit.HEARTS:\n",
        "                fact = 0\n",
        "            elif card.suit == Suit.SPADES:\n",
        "                fact = 1\n",
        "            elif card.suit == Suit.DIAMONDS:\n",
        "                fact = 2\n",
        "            else:\n",
        "                fact = 3\n",
        "            index += fact * 13\n",
        "            to_return[index] = 1\n",
        "\n",
        "        return to_return\n",
        "\n",
        "    def get_player_hand_value(game):\n",
        "        return Game.evaluateHand(game.player_cards)\n",
        "    \n",
        "    def get_player_aces(game):\n",
        "        cards = game.player_cards\n",
        "        to_return = 0\n",
        "        for card in cards:\n",
        "            if card.value == Value.ACE:\n",
        "                to_return += 1\n",
        "        return to_return\n",
        "    \n",
        "    def get_dealer_card(game):\n",
        "        return int(game.dealer_cards[0].value)\n",
        "\n",
        "    def get_final_data(game):\n",
        "        training = []\n",
        "        training.append(Preprocessor.get_player_hand_value(game))\n",
        "        training.append(Preprocessor.get_player_aces(game))\n",
        "        training.append(Preprocessor.get_dealer_card(game))\n",
        "        return np.asarray(training + Preprocessor.used_card(game))\n"
      ],
      "execution_count": 9,
      "outputs": []
    },
    {
      "cell_type": "markdown",
      "metadata": {
        "id": "ovXgD1NlrWkv",
        "colab_type": "text"
      },
      "source": [
        "# Trainer"
      ]
    },
    {
      "cell_type": "code",
      "metadata": {
        "id": "ya11CjFcrYs6",
        "colab_type": "code",
        "colab": {}
      },
      "source": [
        "TRAINING_ROUNDS = 1000000\n",
        "\n",
        "class Trainer:\n",
        "    def __init__(self, model):\n",
        "        self.game = Game(1, TRAINING_ROUNDS)\n",
        "        self.log = \"\"\n",
        "        self.rounds = 0\n",
        "        self.model = model\n",
        "        self.training_rounds = TRAINING_ROUNDS\n",
        "        self.input= []\n",
        "        self.rounds_played = 0\n",
        "        self.hit = False\n",
        "        self.won = False\n",
        "        self.train_x = []\n",
        "        self.train_y = []\n",
        "\n",
        "    def train(self):\n",
        "        for i in range(self.training_rounds):\n",
        "            self.get_move()\n",
        "            self.get_outcome()\n",
        "            # self.learn_from_move()\n",
        "            self.game.end_round()\n",
        "            self.rounds_played+=1\n",
        "            if self.rounds_played % 100000 == 0:\n",
        "                print(self.rounds_played)\n",
        "        self.learn()\n",
        "            \n",
        "    def get_move(self):\n",
        "        self.game.make_bet(1)\n",
        "        self.game.deal_cards()\n",
        "        self.input = Preprocessor.get_final_data(self.game)\n",
        "        if self.rounds_played % 2 == 0:\n",
        "            output = 1\n",
        "        else:\n",
        "            output = 0\n",
        "        # output = self.model.predict(self.input)[0]\n",
        "\n",
        "        if Game.evaluateHand(self.game.player_cards) >= 21 or output == 0:\n",
        "            self.hit = False\n",
        "        else:\n",
        "            self.game.hit()\n",
        "            self.hit = True\n",
        "        \n",
        "        self.game.dealer_hit()\n",
        "\n",
        "    def get_outcome(self):\n",
        "        if Game.evaluateHand(self.game.player_cards) >= Game.evaluateHand(self.game.dealer_cards):\n",
        "            self.won = True\n",
        "        else:\n",
        "            self.won = False\n",
        "\n",
        "        # print(self.won)\n",
        "        self.train_x.append(np.asarray(self.input))\n",
        "        if self.won:\n",
        "            self.train_y.append(np.array([1]))\n",
        "        else:\n",
        "            self.train_y.append(np.array([0]))\n",
        "\n",
        "    def learn(self):\n",
        "        print(\"Learning\")\n",
        "        self.model.fit(np.asarray(self.train_x), np.asarray(self.train_y), batch_size=25, epochs=5)\n"
      ],
      "execution_count": 10,
      "outputs": []
    },
    {
      "cell_type": "markdown",
      "metadata": {
        "id": "WDIxDwZQTKzC",
        "colab_type": "text"
      },
      "source": [
        "# Bet Trainer\n"
      ]
    },
    {
      "cell_type": "code",
      "metadata": {
        "id": "jqAjDvx1TM3w",
        "colab_type": "code",
        "colab": {}
      },
      "source": [
        "BET_TRAINING_ROUNDS = 100000\n",
        "\n",
        "class BetTrainer:\n",
        "    def __init__(self, betting_model, hitting_model):\n",
        "        self.betting_model = betting_model\n",
        "        self.hitting_model = hitting_model\n",
        "        self.train_x = []\n",
        "        self.train_y = []\n",
        "        self.training_rounds = BET_TRAINING_ROUNDS\n",
        "        self.game = Game(1, self.training_rounds)\n",
        "    \n",
        "    def train(self):\n",
        "        for i in range(self.training_rounds):\n",
        "            if i % 10000 == 0:\n",
        "                print(i)\n",
        "            self.input = Preprocessor.used_card(self.game)\n",
        "            self.game.make_bet(1)\n",
        "            self.game.deal_cards()\n",
        "            self.play_move()\n",
        "            self.game.dealer_hit()\n",
        "            self.train_x.append(self.input)\n",
        "            if Game.evaluateHand(self.game.player_cards) >= Game.evaluateHand(self.game.dealer_cards):\n",
        "                self.train_y.append(np.array([1]))\n",
        "            else:\n",
        "                self.train_y.append(np.array([0]))\n",
        "            self.game.end_round()\n",
        "        self.learn()\n",
        "\n",
        "    def play_move(self):\n",
        "        input = []\n",
        "        input.append(Preprocessor.get_final_data(self.game))\n",
        "        output = self.hitting_model.predict(np.asarray(input))\n",
        "        if output[0][0] <= 0.5 or Game.evaluateHand(self.game.player_cards) >= 21:\n",
        "            return\n",
        "        else:\n",
        "            self.game.hit()\n",
        "    \n",
        "    def learn(self):\n",
        "        self.betting_model.fit(np.asarray(self.train_x), np.asarray(self.train_y), batch_size=100, epochs=5)\n"
      ],
      "execution_count": 11,
      "outputs": []
    },
    {
      "cell_type": "markdown",
      "metadata": {
        "id": "C4U6aAiVs852",
        "colab_type": "text"
      },
      "source": [
        "# Tester\n"
      ]
    },
    {
      "cell_type": "code",
      "metadata": {
        "id": "s3w-f0Fwoch4",
        "colab_type": "code",
        "colab": {}
      },
      "source": [
        "class Tester:\n",
        "    def __init__(self, model, betting_model, money, decks):\n",
        "        self.model = model\n",
        "        self.betting_model = betting_model\n",
        "        self.starting_money = money\n",
        "        self.money = money\n",
        "        self.game = Game(decks, money)\n",
        "\n",
        "\n",
        "    def play_rounds(self, rounds):\n",
        "        for i in range(rounds):\n",
        "            self.game.make_bet(self.make_bet())\n",
        "            self.game.deal_cards()\n",
        "            if self.play_move(Preprocessor.get_final_data(self.game)) == 1:\n",
        "                self.game.hit()\n",
        "            self.game.dealer_hit()\n",
        "            self.game.end_round()\n",
        "\n",
        "    def make_bet(self):\n",
        "        input = []\n",
        "        input.append(Preprocessor.used_card(self.game))\n",
        "        output = self.betting_model.predict(np.asarray(input))[0][0]\n",
        "        if output <= 0:\n",
        "            return 1\n",
        "        if output > 1:\n",
        "            return self.game.money\n",
        "        output *= self.game.money\n",
        "        if output < 1:\n",
        "            return 1\n",
        "        return int(output / 1000)\n",
        "\n",
        "    def play_move(self, input):\n",
        "        input = []\n",
        "        input.append(Preprocessor.get_final_data(self.game))\n",
        "        output = self.model.predict(np.asarray(input))\n",
        "        if output[0][0] <= 0.5 or Game.evaluateHand(self.game.player_cards) >= 21:\n",
        "            return 0\n",
        "        return 1\n",
        "\n",
        "    def summary(self):\n",
        "        to_return = \"Started with $\" + str(self.starting_money) + \"\\n\"\n",
        "        to_return += \"Current money: $\" + str(self.game.money) + \"\\n\"\n",
        "        to_return += \"Played \" + str(self.game.rounds_played) + \" rounds\\n\"\n",
        "        to_return += \"Wins: \" + str(self.game.wins) + \" Ties: \" + str(self.game.ties) + \" Losses: \" + str(self.game.losses) + \"\\n\"\n",
        "        return to_return\n"
      ],
      "execution_count": 12,
      "outputs": []
    },
    {
      "cell_type": "markdown",
      "metadata": {
        "id": "A6seYPNYs5y_",
        "colab_type": "text"
      },
      "source": [
        "# Training Model"
      ]
    },
    {
      "cell_type": "code",
      "metadata": {
        "id": "q_kvQifxtEhf",
        "colab_type": "code",
        "colab": {
          "base_uri": "https://localhost:8080/",
          "height": 265
        },
        "outputId": "819ef5bf-6c7b-4c50-9476-7bd90bc4dede"
      },
      "source": [
        "from os import path\n",
        "\n",
        "if path.exists(\"/blackjack/blackjack.model\"):\n",
        "    print(\"Found saved model\")\n",
        "    ai = tf.keras.models.load_model(\"/blackjack/blackjack.model\")\n",
        "else:\n",
        "    print(\"Could not find saved model. Creating and training new.\")\n",
        "    trainer = Trainer(compile_model(create_model()))\n",
        "    trainer.train()\n",
        "    ai = trainer.model\n",
        "    ai.save(\"/blackjack/hitting.model\")\n",
        "    print(\"Saved model to /blackjack/hitting.model\")"
      ],
      "execution_count": null,
      "outputs": [
        {
          "output_type": "stream",
          "text": [
            "Could not find saved model. Creating and training new.\n",
            "100000\n",
            "200000\n",
            "300000\n",
            "400000\n",
            "500000\n",
            "600000\n",
            "700000\n",
            "800000\n",
            "900000\n",
            "1000000\n",
            "Learning\n",
            "Epoch 1/5\n",
            " 9143/40000 [=====>........................] - ETA: 30s - loss: 0.1303 - accuracy: 0.9389"
          ],
          "name": "stdout"
        }
      ]
    },
    {
      "cell_type": "code",
      "metadata": {
        "id": "RT2akoki3Jhp",
        "colab_type": "code",
        "colab": {}
      },
      "source": [
        "if path.exists(\"/blackjack/betting.model\"):\n",
        "    print(\"found saved betting model\")\n",
        "    betting_model = tf.keras.models.load_model(\"/blackjack/betting.model\")\n",
        "else:\n",
        "    bet_trainer = BetTrainer(compile_betting_model(create_betting_model()), ai)\n",
        "    bet_trainer.train()\n",
        "    betting_model = bet_trainer.betting_model\n",
        "    betting_model.save(\"/blackjack/betting.model\")\n",
        "    print(\"Saving model to /blackjack/betting.model\")"
      ],
      "execution_count": null,
      "outputs": []
    },
    {
      "cell_type": "markdown",
      "metadata": {
        "id": "iQCAQgWoDH4x",
        "colab_type": "text"
      },
      "source": [
        "# Testing Model\n"
      ]
    },
    {
      "cell_type": "code",
      "metadata": {
        "id": "k9ViZ7lQDJuu",
        "colab_type": "code",
        "colab": {}
      },
      "source": [
        "tester = Tester(ai, betting_model, 10000000, 1)\n",
        "tester.play_rounds(10000)\n",
        "print(tester.summary())"
      ],
      "execution_count": null,
      "outputs": []
    }
  ]
}